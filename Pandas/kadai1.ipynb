{
 "metadata": {
  "language_info": {
   "codemirror_mode": {
    "name": "ipython",
    "version": 3
   },
   "file_extension": ".py",
   "mimetype": "text/x-python",
   "name": "python",
   "nbconvert_exporter": "python",
   "pygments_lexer": "ipython3",
   "version": "3.8.6"
  },
  "orig_nbformat": 2,
  "kernelspec": {
   "name": "python386jvsc74a57bd0ab679ba943544481767528d6f3910226effff3455379da46719bb700427b5075",
   "display_name": "Python 3.8.6 64-bit"
  },
  "metadata": {
   "interpreter": {
    "hash": "ab679ba943544481767528d6f3910226effff3455379da46719bb700427b5075"
   }
  }
 },
 "nbformat": 4,
 "nbformat_minor": 2,
 "cells": [
  {
   "source": [
    "# 課題 1\n",
    "\n",
    "kakeibo_data.csv を読み込み以下のような表を表示しましょう。  \n",
    "![ladao1.png](kadai1.png) "
   ],
   "cell_type": "markdown",
   "metadata": {}
  },
  {
   "source": [],
   "cell_type": "markdown",
   "metadata": {}
  },
  {
   "cell_type": "code",
   "execution_count": 16,
   "metadata": {},
   "outputs": [
    {
     "output_type": "execute_result",
     "data": {
      "text/plain": [
       "          購入日       種別       品目      金額        購入場所\n",
       "0    2021/4/4       菓子       アメ    ¥120        食料品店\n",
       "1    2021/4/4       飲料      コーラ    ¥100  ファースト フード店\n",
       "2    2021/4/3       惣菜       外食  ¥2,800  ファースト フード店\n",
       "3    2021/4/3       肉類       牛肉  ¥1,800          市場\n",
       "4    2021/4/3       酒類    ウイスキー  ¥2,500        食料品店\n",
       "5    2021/4/2       飲料      ソーダ    ¥600          宅配\n",
       "6    2021/4/2       惣菜       外食  ¥1,000          宅配\n",
       "7    2021/4/2  果物 & 野菜      リンゴ  ¥1,000          宅配\n",
       "8    2021/4/2       飲料      飲料水    ¥100        食料品店\n",
       "9    2021/4/1       飲料      コーラ    ¥100  ファースト フード店\n",
       "10   2021/4/1       菓子   チョコレート    ¥600        食料品店\n",
       "11   2021/4/1       菓子       アメ    ¥500        食料品店\n",
       "12   2021/4/1       飲料      飲料水    ¥200   コーヒー ショップ\n",
       "13  2021/3/31       惣菜        米    ¥300       レストラン\n",
       "14  2021/3/31       肉類       牛肉    ¥720        食料品店\n",
       "15  2021/3/31       酒類      ビール    ¥200       レストラン\n",
       "16  2021/3/31       飲料      ソーダ    ¥100        食料品店\n",
       "17  2021/3/30       惣菜       外食  ¥1,000  ファースト フード店\n",
       "18  2021/3/30  果物 & 野菜      バナナ    ¥600          市場\n",
       "19  2021/3/30       飲料      コーラ    ¥100        食料品店\n",
       "20  2021/3/30       酒類      ビール    ¥100   コーヒー ショップ\n",
       "21  2021/3/30       パン    ロールパン    ¥250        食料品店\n",
       "22  2021/3/29       惣菜    アジフライ    ¥720        食料品店\n",
       "23  2021/3/29  果物 & 野菜      トマト    ¥360        食料品店\n",
       "24  2021/3/29       肉類       鶏肉    ¥400        食料品店\n",
       "25  2021/3/29       惣菜      さしみ    ¥700        食料品店\n",
       "26  2021/3/29       飲料      ソーダ    ¥600          宅配\n",
       "27  2021/3/28       パン   クロワッサン    ¥400  ファースト フード店\n",
       "28  2021/3/28      その他       食器    ¥900          市場\n",
       "29  2021/3/28       菓子  ポテトチップス    ¥150        食料品店\n",
       "30  2021/3/28       飲料    ウーロン茶     ¥80        食料品店\n",
       "31  2021/3/28       肉類       豚肉    ¥880        食料品店\n",
       "32  2021/3/28  果物 & 野菜      メロン  ¥1,520        食料品店\n",
       "33  2021/3/27       酒類      ビール    ¥600        食料品店\n",
       "34  2021/3/27       肉類       鶏肉    ¥800        食料品店\n",
       "35  2021/3/27      その他       衣類  ¥3,500         その他\n",
       "36  2021/3/27  果物 & 野菜      ミカン    ¥420        食料品店\n",
       "37  2021/3/27       惣菜       外食  ¥2,200          市場\n",
       "38  2021/3/26       パン    ロールパン    ¥250        食料品店\n",
       "39  2021/3/26       菓子       アメ    ¥120        食料品店\n",
       "40  2021/3/26       惣菜       外食  ¥1,000  ファースト フード店\n",
       "41  2021/3/26  果物 & 野菜      バナナ    ¥600        食料品店\n",
       "42  2021/3/26       酒類      ビール    ¥100   コーヒー ショップ\n",
       "43  2021/3/26       パン   クロワッサン    ¥400        食料品店\n",
       "44  2021/3/26       飲料      ソーダ    ¥600          宅配\n",
       "45  2021/3/25  果物 & 野菜      リンゴ  ¥1,000          宅配\n",
       "46  2021/3/25       肉類       牛肉  ¥1,800        食料品店\n",
       "47  2021/3/25       惣菜       定食    ¥750       レストラン\n",
       "48  2021/3/25       酒類    ウイスキー  ¥2,500          宅配\n",
       "49  2021/3/25       酒類      ビール  ¥1,000          宅配"
      ],
      "text/html": "<div>\n<style scoped>\n    .dataframe tbody tr th:only-of-type {\n        vertical-align: middle;\n    }\n\n    .dataframe tbody tr th {\n        vertical-align: top;\n    }\n\n    .dataframe thead th {\n        text-align: right;\n    }\n</style>\n<table border=\"1\" class=\"dataframe\">\n  <thead>\n    <tr style=\"text-align: right;\">\n      <th></th>\n      <th>購入日</th>\n      <th>種別</th>\n      <th>品目</th>\n      <th>金額</th>\n      <th>購入場所</th>\n    </tr>\n  </thead>\n  <tbody>\n    <tr>\n      <th>0</th>\n      <td>2021/4/4</td>\n      <td>菓子</td>\n      <td>アメ</td>\n      <td>¥120</td>\n      <td>食料品店</td>\n    </tr>\n    <tr>\n      <th>1</th>\n      <td>2021/4/4</td>\n      <td>飲料</td>\n      <td>コーラ</td>\n      <td>¥100</td>\n      <td>ファースト フード店</td>\n    </tr>\n    <tr>\n      <th>2</th>\n      <td>2021/4/3</td>\n      <td>惣菜</td>\n      <td>外食</td>\n      <td>¥2,800</td>\n      <td>ファースト フード店</td>\n    </tr>\n    <tr>\n      <th>3</th>\n      <td>2021/4/3</td>\n      <td>肉類</td>\n      <td>牛肉</td>\n      <td>¥1,800</td>\n      <td>市場</td>\n    </tr>\n    <tr>\n      <th>4</th>\n      <td>2021/4/3</td>\n      <td>酒類</td>\n      <td>ウイスキー</td>\n      <td>¥2,500</td>\n      <td>食料品店</td>\n    </tr>\n    <tr>\n      <th>5</th>\n      <td>2021/4/2</td>\n      <td>飲料</td>\n      <td>ソーダ</td>\n      <td>¥600</td>\n      <td>宅配</td>\n    </tr>\n    <tr>\n      <th>6</th>\n      <td>2021/4/2</td>\n      <td>惣菜</td>\n      <td>外食</td>\n      <td>¥1,000</td>\n      <td>宅配</td>\n    </tr>\n    <tr>\n      <th>7</th>\n      <td>2021/4/2</td>\n      <td>果物 &amp; 野菜</td>\n      <td>リンゴ</td>\n      <td>¥1,000</td>\n      <td>宅配</td>\n    </tr>\n    <tr>\n      <th>8</th>\n      <td>2021/4/2</td>\n      <td>飲料</td>\n      <td>飲料水</td>\n      <td>¥100</td>\n      <td>食料品店</td>\n    </tr>\n    <tr>\n      <th>9</th>\n      <td>2021/4/1</td>\n      <td>飲料</td>\n      <td>コーラ</td>\n      <td>¥100</td>\n      <td>ファースト フード店</td>\n    </tr>\n    <tr>\n      <th>10</th>\n      <td>2021/4/1</td>\n      <td>菓子</td>\n      <td>チョコレート</td>\n      <td>¥600</td>\n      <td>食料品店</td>\n    </tr>\n    <tr>\n      <th>11</th>\n      <td>2021/4/1</td>\n      <td>菓子</td>\n      <td>アメ</td>\n      <td>¥500</td>\n      <td>食料品店</td>\n    </tr>\n    <tr>\n      <th>12</th>\n      <td>2021/4/1</td>\n      <td>飲料</td>\n      <td>飲料水</td>\n      <td>¥200</td>\n      <td>コーヒー ショップ</td>\n    </tr>\n    <tr>\n      <th>13</th>\n      <td>2021/3/31</td>\n      <td>惣菜</td>\n      <td>米</td>\n      <td>¥300</td>\n      <td>レストラン</td>\n    </tr>\n    <tr>\n      <th>14</th>\n      <td>2021/3/31</td>\n      <td>肉類</td>\n      <td>牛肉</td>\n      <td>¥720</td>\n      <td>食料品店</td>\n    </tr>\n    <tr>\n      <th>15</th>\n      <td>2021/3/31</td>\n      <td>酒類</td>\n      <td>ビール</td>\n      <td>¥200</td>\n      <td>レストラン</td>\n    </tr>\n    <tr>\n      <th>16</th>\n      <td>2021/3/31</td>\n      <td>飲料</td>\n      <td>ソーダ</td>\n      <td>¥100</td>\n      <td>食料品店</td>\n    </tr>\n    <tr>\n      <th>17</th>\n      <td>2021/3/30</td>\n      <td>惣菜</td>\n      <td>外食</td>\n      <td>¥1,000</td>\n      <td>ファースト フード店</td>\n    </tr>\n    <tr>\n      <th>18</th>\n      <td>2021/3/30</td>\n      <td>果物 &amp; 野菜</td>\n      <td>バナナ</td>\n      <td>¥600</td>\n      <td>市場</td>\n    </tr>\n    <tr>\n      <th>19</th>\n      <td>2021/3/30</td>\n      <td>飲料</td>\n      <td>コーラ</td>\n      <td>¥100</td>\n      <td>食料品店</td>\n    </tr>\n    <tr>\n      <th>20</th>\n      <td>2021/3/30</td>\n      <td>酒類</td>\n      <td>ビール</td>\n      <td>¥100</td>\n      <td>コーヒー ショップ</td>\n    </tr>\n    <tr>\n      <th>21</th>\n      <td>2021/3/30</td>\n      <td>パン</td>\n      <td>ロールパン</td>\n      <td>¥250</td>\n      <td>食料品店</td>\n    </tr>\n    <tr>\n      <th>22</th>\n      <td>2021/3/29</td>\n      <td>惣菜</td>\n      <td>アジフライ</td>\n      <td>¥720</td>\n      <td>食料品店</td>\n    </tr>\n    <tr>\n      <th>23</th>\n      <td>2021/3/29</td>\n      <td>果物 &amp; 野菜</td>\n      <td>トマト</td>\n      <td>¥360</td>\n      <td>食料品店</td>\n    </tr>\n    <tr>\n      <th>24</th>\n      <td>2021/3/29</td>\n      <td>肉類</td>\n      <td>鶏肉</td>\n      <td>¥400</td>\n      <td>食料品店</td>\n    </tr>\n    <tr>\n      <th>25</th>\n      <td>2021/3/29</td>\n      <td>惣菜</td>\n      <td>さしみ</td>\n      <td>¥700</td>\n      <td>食料品店</td>\n    </tr>\n    <tr>\n      <th>26</th>\n      <td>2021/3/29</td>\n      <td>飲料</td>\n      <td>ソーダ</td>\n      <td>¥600</td>\n      <td>宅配</td>\n    </tr>\n    <tr>\n      <th>27</th>\n      <td>2021/3/28</td>\n      <td>パン</td>\n      <td>クロワッサン</td>\n      <td>¥400</td>\n      <td>ファースト フード店</td>\n    </tr>\n    <tr>\n      <th>28</th>\n      <td>2021/3/28</td>\n      <td>その他</td>\n      <td>食器</td>\n      <td>¥900</td>\n      <td>市場</td>\n    </tr>\n    <tr>\n      <th>29</th>\n      <td>2021/3/28</td>\n      <td>菓子</td>\n      <td>ポテトチップス</td>\n      <td>¥150</td>\n      <td>食料品店</td>\n    </tr>\n    <tr>\n      <th>30</th>\n      <td>2021/3/28</td>\n      <td>飲料</td>\n      <td>ウーロン茶</td>\n      <td>¥80</td>\n      <td>食料品店</td>\n    </tr>\n    <tr>\n      <th>31</th>\n      <td>2021/3/28</td>\n      <td>肉類</td>\n      <td>豚肉</td>\n      <td>¥880</td>\n      <td>食料品店</td>\n    </tr>\n    <tr>\n      <th>32</th>\n      <td>2021/3/28</td>\n      <td>果物 &amp; 野菜</td>\n      <td>メロン</td>\n      <td>¥1,520</td>\n      <td>食料品店</td>\n    </tr>\n    <tr>\n      <th>33</th>\n      <td>2021/3/27</td>\n      <td>酒類</td>\n      <td>ビール</td>\n      <td>¥600</td>\n      <td>食料品店</td>\n    </tr>\n    <tr>\n      <th>34</th>\n      <td>2021/3/27</td>\n      <td>肉類</td>\n      <td>鶏肉</td>\n      <td>¥800</td>\n      <td>食料品店</td>\n    </tr>\n    <tr>\n      <th>35</th>\n      <td>2021/3/27</td>\n      <td>その他</td>\n      <td>衣類</td>\n      <td>¥3,500</td>\n      <td>その他</td>\n    </tr>\n    <tr>\n      <th>36</th>\n      <td>2021/3/27</td>\n      <td>果物 &amp; 野菜</td>\n      <td>ミカン</td>\n      <td>¥420</td>\n      <td>食料品店</td>\n    </tr>\n    <tr>\n      <th>37</th>\n      <td>2021/3/27</td>\n      <td>惣菜</td>\n      <td>外食</td>\n      <td>¥2,200</td>\n      <td>市場</td>\n    </tr>\n    <tr>\n      <th>38</th>\n      <td>2021/3/26</td>\n      <td>パン</td>\n      <td>ロールパン</td>\n      <td>¥250</td>\n      <td>食料品店</td>\n    </tr>\n    <tr>\n      <th>39</th>\n      <td>2021/3/26</td>\n      <td>菓子</td>\n      <td>アメ</td>\n      <td>¥120</td>\n      <td>食料品店</td>\n    </tr>\n    <tr>\n      <th>40</th>\n      <td>2021/3/26</td>\n      <td>惣菜</td>\n      <td>外食</td>\n      <td>¥1,000</td>\n      <td>ファースト フード店</td>\n    </tr>\n    <tr>\n      <th>41</th>\n      <td>2021/3/26</td>\n      <td>果物 &amp; 野菜</td>\n      <td>バナナ</td>\n      <td>¥600</td>\n      <td>食料品店</td>\n    </tr>\n    <tr>\n      <th>42</th>\n      <td>2021/3/26</td>\n      <td>酒類</td>\n      <td>ビール</td>\n      <td>¥100</td>\n      <td>コーヒー ショップ</td>\n    </tr>\n    <tr>\n      <th>43</th>\n      <td>2021/3/26</td>\n      <td>パン</td>\n      <td>クロワッサン</td>\n      <td>¥400</td>\n      <td>食料品店</td>\n    </tr>\n    <tr>\n      <th>44</th>\n      <td>2021/3/26</td>\n      <td>飲料</td>\n      <td>ソーダ</td>\n      <td>¥600</td>\n      <td>宅配</td>\n    </tr>\n    <tr>\n      <th>45</th>\n      <td>2021/3/25</td>\n      <td>果物 &amp; 野菜</td>\n      <td>リンゴ</td>\n      <td>¥1,000</td>\n      <td>宅配</td>\n    </tr>\n    <tr>\n      <th>46</th>\n      <td>2021/3/25</td>\n      <td>肉類</td>\n      <td>牛肉</td>\n      <td>¥1,800</td>\n      <td>食料品店</td>\n    </tr>\n    <tr>\n      <th>47</th>\n      <td>2021/3/25</td>\n      <td>惣菜</td>\n      <td>定食</td>\n      <td>¥750</td>\n      <td>レストラン</td>\n    </tr>\n    <tr>\n      <th>48</th>\n      <td>2021/3/25</td>\n      <td>酒類</td>\n      <td>ウイスキー</td>\n      <td>¥2,500</td>\n      <td>宅配</td>\n    </tr>\n    <tr>\n      <th>49</th>\n      <td>2021/3/25</td>\n      <td>酒類</td>\n      <td>ビール</td>\n      <td>¥1,000</td>\n      <td>宅配</td>\n    </tr>\n  </tbody>\n</table>\n</div>"
     },
     "metadata": {},
     "execution_count": 16
    }
   ],
   "source": [
    "# importは自由に追加してよい\n",
    "import re\n",
    "import numpy as np\n",
    "import pandas as pd\n",
    "\n",
    "df = pd.read_csv(filepath_or_buffer=\"kakeibo_data.csv\", encoding=\"utf-8\", sep=\",\")\n",
    "df"
   ]
  }
 ]
}